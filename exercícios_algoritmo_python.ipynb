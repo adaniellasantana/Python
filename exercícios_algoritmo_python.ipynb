{
  "nbformat": 4,
  "nbformat_minor": 0,
  "metadata": {
    "colab": {
      "provenance": [],
      "authorship_tag": "ABX9TyMX0QaxY/KX57jYxkOp8DK8",
      "include_colab_link": true
    },
    "kernelspec": {
      "name": "python3",
      "display_name": "Python 3"
    },
    "language_info": {
      "name": "python"
    }
  },
  "cells": [
    {
      "cell_type": "markdown",
      "metadata": {
        "id": "view-in-github",
        "colab_type": "text"
      },
      "source": [
        "<a href=\"https://colab.research.google.com/github/adaniellasantana/Python/blob/main/exerc%C3%ADcios_algoritmo_python.ipynb\" target=\"_parent\"><img src=\"https://colab.research.google.com/assets/colab-badge.svg\" alt=\"Open In Colab\"/></a>"
      ]
    },
    {
      "cell_type": "code",
      "execution_count": null,
      "metadata": {
        "id": "cOqXWCGpdb-7"
      },
      "outputs": [],
      "source": []
    },
    {
      "cell_type": "code",
      "source": [
        "import math\n",
        "print(\"Informe o valor do raio:\" )\n",
        "raio = float(input())\n",
        "volume= 4/3 * math.pi * math.pow(raio,3)\n",
        "print(\"volume :\", volume)\n"
      ],
      "metadata": {
        "colab": {
          "base_uri": "https://localhost:8080/"
        },
        "id": "TSsn3ufwdgTP",
        "outputId": "86d9bae4-1929-4612-c1ff-191754496580"
      },
      "execution_count": null,
      "outputs": [
        {
          "output_type": "stream",
          "name": "stdout",
          "text": [
            "Informe o valor do raio:\n",
            "9\n",
            "volume : 3053.6280592892786\n"
          ]
        }
      ]
    },
    {
      "cell_type": "code",
      "source": [
        "import math\n",
        "print (\"Informe o valor do raio: \")\n",
        "raio = float (input())\n",
        "a = 4* math.pi*math.pow(raio,2)\n",
        "print(\"A área da esfera é : \", a)"
      ],
      "metadata": {
        "colab": {
          "base_uri": "https://localhost:8080/"
        },
        "id": "ZEaOLWwFfpza",
        "outputId": "4192c6d7-e656-4b3e-f0a2-9e132a09b36d"
      },
      "execution_count": null,
      "outputs": [
        {
          "output_type": "stream",
          "name": "stdout",
          "text": [
            "Informe o valor do raio: \n",
            "3\n",
            "A área da esfera é :  113.09733552923255\n"
          ]
        }
      ]
    },
    {
      "cell_type": "code",
      "source": [
        "import math\n",
        "\n",
        "print (\"Informe um valor: \")\n",
        "n = float(input())\n",
        "\n",
        "n2 = math.pow(n,2)\n",
        "n3 = math.pow(n,3)\n",
        "n4 = math.pow(n,4)\n",
        "\n",
        "print(\"Resultado da exponenciação do valor elevado a dois é:\",n2,\n",
        "      \"Resultado da exponenciação do valor elevado a três é:\", n3,\n",
        "      \"Resultado da exponenciação do valor elevado a quatro é:\",n4)"
      ],
      "metadata": {
        "colab": {
          "base_uri": "https://localhost:8080/"
        },
        "id": "AaGWEpXKg1bN",
        "outputId": "04c923fd-57b6-4fd1-9e7f-d6073013d5e7"
      },
      "execution_count": null,
      "outputs": [
        {
          "output_type": "stream",
          "name": "stdout",
          "text": [
            "Informe um valor: \n",
            "2\n",
            "Resultado da exponenciação do valor elevado a dois é: 4.0 Resultado da exponenciação do valor elevado a três é: 8.0 Resultado da exponenciação do valor elevado a quatro é: 16.0\n"
          ]
        }
      ]
    },
    {
      "cell_type": "code",
      "source": [
        "\n",
        "print(\"Digite o valor do clima em Fahrenheit \")\n",
        "f = float (input())\n",
        "celsius = float\n",
        "celsius = 5/9*(f-32)\n",
        "print(\"O valor em celsius é \", celsius)"
      ],
      "metadata": {
        "colab": {
          "base_uri": "https://localhost:8080/"
        },
        "id": "dUeGEEaV0vMa",
        "outputId": "7506fccb-5b6c-4f07-e90c-daee24f5b162"
      },
      "execution_count": 19,
      "outputs": [
        {
          "output_type": "stream",
          "name": "stdout",
          "text": [
            "Digite o valor do clima em Fahrenheit \n",
            "84\n",
            "O valor em celsius é  28.88888888888889\n"
          ]
        }
      ]
    }
  ]
}