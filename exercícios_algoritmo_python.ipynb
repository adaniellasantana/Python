{
  "nbformat": 4,
  "nbformat_minor": 0,
  "metadata": {
    "colab": {
      "provenance": [],
      "authorship_tag": "ABX9TyMbSN4LfxoAZqU3CPKU+EaU",
      "include_colab_link": true
    },
    "kernelspec": {
      "name": "python3",
      "display_name": "Python 3"
    },
    "language_info": {
      "name": "python"
    }
  },
  "cells": [
    {
      "cell_type": "markdown",
      "metadata": {
        "id": "view-in-github",
        "colab_type": "text"
      },
      "source": [
        "<a href=\"https://colab.research.google.com/github/adaniellasantana/Python/blob/main/exerc%C3%ADcios_algoritmo_python.ipynb\" target=\"_parent\"><img src=\"https://colab.research.google.com/assets/colab-badge.svg\" alt=\"Open In Colab\"/></a>"
      ]
    },
    {
      "cell_type": "code",
      "execution_count": null,
      "metadata": {
        "id": "cOqXWCGpdb-7"
      },
      "outputs": [],
      "source": [
        "Calculando o volume"
      ]
    },
    {
      "cell_type": "code",
      "source": [
        "import math\n",
        "print(\"Informe o valor do raio:\" )\n",
        "raio = float(input())\n",
        "volume= 4/3 * math.pi * math.pow(raio,3)\n",
        "print(\"volume :\", volume)\n"
      ],
      "metadata": {
        "colab": {
          "base_uri": "https://localhost:8080/"
        },
        "id": "TSsn3ufwdgTP",
        "outputId": "86d9bae4-1929-4612-c1ff-191754496580"
      },
      "execution_count": null,
      "outputs": [
        {
          "output_type": "stream",
          "name": "stdout",
          "text": [
            "Informe o valor do raio:\n",
            "9\n",
            "volume : 3053.6280592892786\n"
          ]
        }
      ]
    },
    {
      "cell_type": "markdown",
      "source": [
        "Calculando o valor da esfera\n"
      ],
      "metadata": {
        "id": "RVNEvbrYHH8V"
      }
    },
    {
      "cell_type": "code",
      "source": [
        "import math\n",
        "print (\"Informe o valor do raio: \")\n",
        "raio = float (input())\n",
        "a = 4* math.pi*math.pow(raio,2)\n",
        "print(\"A área da esfera é : \", a)"
      ],
      "metadata": {
        "colab": {
          "base_uri": "https://localhost:8080/"
        },
        "id": "ZEaOLWwFfpza",
        "outputId": "4192c6d7-e656-4b3e-f0a2-9e132a09b36d"
      },
      "execution_count": null,
      "outputs": [
        {
          "output_type": "stream",
          "name": "stdout",
          "text": [
            "Informe o valor do raio: \n",
            "3\n",
            "A área da esfera é :  113.09733552923255\n"
          ]
        }
      ]
    },
    {
      "cell_type": "markdown",
      "source": [
        "Exponenciação\n"
      ],
      "metadata": {
        "id": "p99GYoiyHQq0"
      }
    },
    {
      "cell_type": "code",
      "source": [
        "import math\n",
        "\n",
        "print (\"Informe um valor: \")\n",
        "n = float(input())\n",
        "\n",
        "n2 = math.pow(n,2)\n",
        "n3 = math.pow(n,3)\n",
        "n4 = math.pow(n,4)\n",
        "\n",
        "print(\"Resultado da exponenciação do valor elevado a dois é:\",n2,\n",
        "      \"Resultado da exponenciação do valor elevado a três é:\", n3,\n",
        "      \"Resultado da exponenciação do valor elevado a quatro é:\",n4)"
      ],
      "metadata": {
        "colab": {
          "base_uri": "https://localhost:8080/"
        },
        "id": "AaGWEpXKg1bN",
        "outputId": "04c923fd-57b6-4fd1-9e7f-d6073013d5e7"
      },
      "execution_count": null,
      "outputs": [
        {
          "output_type": "stream",
          "name": "stdout",
          "text": [
            "Informe um valor: \n",
            "2\n",
            "Resultado da exponenciação do valor elevado a dois é: 4.0 Resultado da exponenciação do valor elevado a três é: 8.0 Resultado da exponenciação do valor elevado a quatro é: 16.0\n"
          ]
        }
      ]
    },
    {
      "cell_type": "markdown",
      "source": [
        "Convertendo fahrenheit em celsius]"
      ],
      "metadata": {
        "id": "mJzN1LmoHbzx"
      }
    },
    {
      "cell_type": "code",
      "source": [
        "\n",
        "print(\"Digite o valor do clima em Fahrenheit \")\n",
        "f = float (input())\n",
        "celsius = float\n",
        "celsius = 5/9*(f-32)\n",
        "print(\"O valor em celsius é \", celsius)\n"
      ],
      "metadata": {
        "colab": {
          "base_uri": "https://localhost:8080/"
        },
        "id": "dUeGEEaV0vMa",
        "outputId": "7506fccb-5b6c-4f07-e90c-daee24f5b162"
      },
      "execution_count": null,
      "outputs": [
        {
          "output_type": "stream",
          "name": "stdout",
          "text": [
            "Digite o valor do clima em Fahrenheit \n",
            "84\n",
            "O valor em celsius é  28.88888888888889\n"
          ]
        }
      ]
    },
    {
      "cell_type": "code",
      "source": [],
      "metadata": {
        "id": "xUO5Z8Nb_eiz"
      },
      "execution_count": null,
      "outputs": []
    },
    {
      "cell_type": "markdown",
      "source": [
        "Construir um programa que leia dois valores inteiros e resolva problemas matemáticos\n"
      ],
      "metadata": {
        "id": "bDjr-7ECHlRU"
      }
    },
    {
      "cell_type": "code",
      "source": [
        "import math\n",
        "print(\"Digite o valor de a:\")\n",
        "a = int (input())\n",
        "print(\"Digite o valor de b:\")\n",
        "b = int(input())\n",
        "\n",
        "print(\"a + b = \", a + b)\n",
        "print(\"a - b = \", a - b)\n",
        "print(\"Média:\", (a+b)/2)\n",
        "\n",
        "print (\"Diferença Valor absoluto: \", math.fabs(a-b))\n",
        "\n",
        "maior = a+b+math.fabs(a-b)/2\n",
        "print(\"O maior dos dois:\", maior)\n",
        "\n",
        "menor= a + b -math.fabs(a - b)/2\n",
        "print(\"O menor dos dois:\", menor)\n",
        "\n",
        "\n",
        "\n"
      ],
      "metadata": {
        "colab": {
          "base_uri": "https://localhost:8080/"
        },
        "id": "SctgOuAoH0lF",
        "outputId": "a128d071-577c-4611-aeec-a4a1f117fb6d"
      },
      "execution_count": null,
      "outputs": [
        {
          "output_type": "stream",
          "name": "stdout",
          "text": [
            "Digite o valor de a:\n",
            "8\n",
            "Digite o valor de b:\n",
            "2\n",
            "a + b =  10\n",
            "a - b =  6\n",
            "Média: 5.0\n",
            "Diferença Valor absoluto:  6.0\n",
            "O maior dos dois: 13.0\n",
            "O menor dos dois: 7.0\n"
          ]
        }
      ]
    },
    {
      "cell_type": "markdown",
      "source": [
        "Construir um programa que lê o tempo de um evento em segundos e o escreve decomposto em horas, minutos e segundos\n",
        "\n"
      ],
      "metadata": {
        "id": "g7zpJCGUa2XT"
      }
    },
    {
      "cell_type": "code",
      "source": [
        "import math\n",
        "print(\"Digite quanto tempo dura o evento em segundos: \")\n",
        "tempo = int(input())\n",
        "\n",
        "horas = tempo//3600\n",
        "print(\"O evento tem :\", horas,\"hrs\")\n",
        "resto = tempo%3600\n",
        "minutos = resto//60\n",
        "print(\"minutos:\", minutos)\n",
        "segundos = resto%60\n",
        "print(\"segundos:\", segundos)\n",
        "\n",
        "\n",
        "\n",
        "\n",
        "\n"
      ],
      "metadata": {
        "id": "CDZgB7VRbDlT",
        "colab": {
          "base_uri": "https://localhost:8080/"
        },
        "outputId": "8ea7c6d9-8136-426e-aca2-dfe1de657575"
      },
      "execution_count": null,
      "outputs": [
        {
          "output_type": "stream",
          "name": "stdout",
          "text": [
            "Digite quanto tempo dura o evento em segundos: \n",
            "7600\n",
            "O evento tem : 2 hrs\n",
            "minutos: 6\n",
            "segundos: 40\n"
          ]
        }
      ]
    },
    {
      "cell_type": "code",
      "source": [
        "print(\"Digite o valor:\")\n",
        "valor = int (input())\n",
        "\n",
        "milhar= valor//1000\n",
        "resto =valor%1000\n",
        "centena= resto//100\n",
        "resto= resto%100\n",
        "dezena = resto//10\n",
        "unidade=resto%10\n",
        "\n",
        "print(\"Valor invertido:\", unidade*1000+ dezena*100+ centena*10+ milhar)\n",
        "\n",
        "\n",
        "\n"
      ],
      "metadata": {
        "colab": {
          "base_uri": "https://localhost:8080/"
        },
        "id": "zNMHMt8yxfEH",
        "outputId": "929531d1-bfc2-42ff-8bee-b036a52a2559"
      },
      "execution_count": null,
      "outputs": [
        {
          "output_type": "stream",
          "name": "stdout",
          "text": [
            "Digite o valor:\n",
            "1234\n",
            "Valor invertido: 4321\n"
          ]
        }
      ]
    },
    {
      "cell_type": "markdown",
      "source": [],
      "metadata": {
        "id": "1sGm-H8jkgTV"
      }
    },
    {
      "cell_type": "code",
      "source": [],
      "metadata": {
        "id": "f_tUSK6mkd9d"
      },
      "execution_count": null,
      "outputs": []
    }
  ]
}